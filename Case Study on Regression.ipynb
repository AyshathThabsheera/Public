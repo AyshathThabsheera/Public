{
 "cells": [
  {
   "cell_type": "code",
   "execution_count": 1,
   "id": "df6e5a58-c0d6-4dc7-a2ca-431ecfb3fb38",
   "metadata": {},
   "outputs": [],
   "source": [
    "import numpy as np\n",
    "import pandas as pd\n",
    "import matplotlib.pyplot as plt\n",
    "import seaborn as sns"
   ]
  },
  {
   "cell_type": "code",
   "execution_count": 2,
   "id": "882b42c1-59a3-446b-aeff-772bcda6d80c",
   "metadata": {},
   "outputs": [],
   "source": [
    "data=pd.read_csv('car_age_price.csv')"
   ]
  },
  {
   "cell_type": "code",
   "execution_count": 3,
   "id": "2e394294-b5ee-47a1-9192-364928d87fb7",
   "metadata": {},
   "outputs": [
    {
     "data": {
      "text/html": [
       "<div>\n",
       "<style scoped>\n",
       "    .dataframe tbody tr th:only-of-type {\n",
       "        vertical-align: middle;\n",
       "    }\n",
       "\n",
       "    .dataframe tbody tr th {\n",
       "        vertical-align: top;\n",
       "    }\n",
       "\n",
       "    .dataframe thead th {\n",
       "        text-align: right;\n",
       "    }\n",
       "</style>\n",
       "<table border=\"1\" class=\"dataframe\">\n",
       "  <thead>\n",
       "    <tr style=\"text-align: right;\">\n",
       "      <th></th>\n",
       "      <th>Year</th>\n",
       "      <th>Price</th>\n",
       "    </tr>\n",
       "  </thead>\n",
       "  <tbody>\n",
       "    <tr>\n",
       "      <th>0</th>\n",
       "      <td>2018</td>\n",
       "      <td>465000</td>\n",
       "    </tr>\n",
       "    <tr>\n",
       "      <th>1</th>\n",
       "      <td>2019</td>\n",
       "      <td>755000</td>\n",
       "    </tr>\n",
       "    <tr>\n",
       "      <th>2</th>\n",
       "      <td>2019</td>\n",
       "      <td>700000</td>\n",
       "    </tr>\n",
       "    <tr>\n",
       "      <th>3</th>\n",
       "      <td>2018</td>\n",
       "      <td>465000</td>\n",
       "    </tr>\n",
       "    <tr>\n",
       "      <th>4</th>\n",
       "      <td>2018</td>\n",
       "      <td>465000</td>\n",
       "    </tr>\n",
       "  </tbody>\n",
       "</table>\n",
       "</div>"
      ],
      "text/plain": [
       "   Year   Price\n",
       "0  2018  465000\n",
       "1  2019  755000\n",
       "2  2019  700000\n",
       "3  2018  465000\n",
       "4  2018  465000"
      ]
     },
     "execution_count": 3,
     "metadata": {},
     "output_type": "execute_result"
    }
   ],
   "source": [
    "data.head()"
   ]
  },
  {
   "cell_type": "code",
   "execution_count": 4,
   "id": "b20b4e40-bedf-4553-a996-e00f3b2c995e",
   "metadata": {},
   "outputs": [
    {
     "data": {
      "text/plain": [
       "(112, 2)"
      ]
     },
     "execution_count": 4,
     "metadata": {},
     "output_type": "execute_result"
    }
   ],
   "source": [
    "data.shape"
   ]
  },
  {
   "cell_type": "code",
   "execution_count": 5,
   "id": "64e301a8-50a4-406b-a740-2b57522db42a",
   "metadata": {},
   "outputs": [
    {
     "name": "stdout",
     "output_type": "stream",
     "text": [
      "<class 'pandas.core.frame.DataFrame'>\n",
      "RangeIndex: 112 entries, 0 to 111\n",
      "Data columns (total 2 columns):\n",
      " #   Column  Non-Null Count  Dtype\n",
      "---  ------  --------------  -----\n",
      " 0   Year    112 non-null    int64\n",
      " 1   Price   112 non-null    int64\n",
      "dtypes: int64(2)\n",
      "memory usage: 1.9 KB\n"
     ]
    }
   ],
   "source": [
    "data.info()"
   ]
  },
  {
   "cell_type": "code",
   "execution_count": 6,
   "id": "30790160-936d-4171-b534-67fea0108122",
   "metadata": {},
   "outputs": [
    {
     "data": {
      "text/plain": [
       "Year     int64\n",
       "Price    int64\n",
       "dtype: object"
      ]
     },
     "execution_count": 6,
     "metadata": {},
     "output_type": "execute_result"
    }
   ],
   "source": [
    "data.dtypes"
   ]
  },
  {
   "cell_type": "code",
   "execution_count": 7,
   "id": "b90724f5-882c-47db-a01a-d7edaf52b236",
   "metadata": {},
   "outputs": [
    {
     "data": {
      "text/plain": [
       "Year     0\n",
       "Price    0\n",
       "dtype: int64"
      ]
     },
     "execution_count": 7,
     "metadata": {},
     "output_type": "execute_result"
    }
   ],
   "source": [
    "data.isna().sum()"
   ]
  },
  {
   "cell_type": "code",
   "execution_count": 8,
   "id": "91bce846-1933-4de2-8a2e-3ca3fbd9bc75",
   "metadata": {},
   "outputs": [
    {
     "data": {
      "text/html": [
       "<div>\n",
       "<style scoped>\n",
       "    .dataframe tbody tr th:only-of-type {\n",
       "        vertical-align: middle;\n",
       "    }\n",
       "\n",
       "    .dataframe tbody tr th {\n",
       "        vertical-align: top;\n",
       "    }\n",
       "\n",
       "    .dataframe thead th {\n",
       "        text-align: right;\n",
       "    }\n",
       "</style>\n",
       "<table border=\"1\" class=\"dataframe\">\n",
       "  <thead>\n",
       "    <tr style=\"text-align: right;\">\n",
       "      <th></th>\n",
       "      <th>Year</th>\n",
       "      <th>Price</th>\n",
       "    </tr>\n",
       "  </thead>\n",
       "  <tbody>\n",
       "    <tr>\n",
       "      <th>count</th>\n",
       "      <td>112.000000</td>\n",
       "      <td>112.000000</td>\n",
       "    </tr>\n",
       "    <tr>\n",
       "      <th>mean</th>\n",
       "      <td>2016.669643</td>\n",
       "      <td>483866.044643</td>\n",
       "    </tr>\n",
       "    <tr>\n",
       "      <th>std</th>\n",
       "      <td>1.629616</td>\n",
       "      <td>91217.450533</td>\n",
       "    </tr>\n",
       "    <tr>\n",
       "      <th>min</th>\n",
       "      <td>2013.000000</td>\n",
       "      <td>300000.000000</td>\n",
       "    </tr>\n",
       "    <tr>\n",
       "      <th>25%</th>\n",
       "      <td>2015.000000</td>\n",
       "      <td>423750.000000</td>\n",
       "    </tr>\n",
       "    <tr>\n",
       "      <th>50%</th>\n",
       "      <td>2017.000000</td>\n",
       "      <td>500000.000000</td>\n",
       "    </tr>\n",
       "    <tr>\n",
       "      <th>75%</th>\n",
       "      <td>2017.000000</td>\n",
       "      <td>550000.000000</td>\n",
       "    </tr>\n",
       "    <tr>\n",
       "      <th>max</th>\n",
       "      <td>2020.000000</td>\n",
       "      <td>755000.000000</td>\n",
       "    </tr>\n",
       "  </tbody>\n",
       "</table>\n",
       "</div>"
      ],
      "text/plain": [
       "              Year          Price\n",
       "count   112.000000     112.000000\n",
       "mean   2016.669643  483866.044643\n",
       "std       1.629616   91217.450533\n",
       "min    2013.000000  300000.000000\n",
       "25%    2015.000000  423750.000000\n",
       "50%    2017.000000  500000.000000\n",
       "75%    2017.000000  550000.000000\n",
       "max    2020.000000  755000.000000"
      ]
     },
     "execution_count": 8,
     "metadata": {},
     "output_type": "execute_result"
    }
   ],
   "source": [
    "data.describe()"
   ]
  },
  {
   "cell_type": "code",
   "execution_count": 9,
   "id": "02332df0-8c30-4d16-b363-d345e17fc7a8",
   "metadata": {},
   "outputs": [],
   "source": [
    "num_cols=['Year','Price']"
   ]
  },
  {
   "cell_type": "code",
   "execution_count": 10,
   "id": "c155a8c0-6f41-4707-a229-ab1b14a05f76",
   "metadata": {},
   "outputs": [
    {
     "data": {
      "image/png": "[encoded data removed]",
      "text/plain": [
       "<Figure size 640x480 with 1 Axes>"
      ]
     },
     "metadata": {},
     "output_type": "display_data"
    },
    {
     "data": {
      "image/png": "[encoded data removed]",
      "text/plain": [
       "<Figure size 640x480 with 1 Axes>"
      ]
     },
     "metadata": {},
     "output_type": "display_data"
    }
   ],
   "source": [
    "for i in num_cols:\n",
    "    plt.figure()\n",
    "    plt.boxplot(data[i])\n",
    "    plt.title(i)"
   ]
  },
  {
   "cell_type": "code",
   "execution_count": 12,
   "id": "ea65613d-f036-44e4-b5aa-fdd805b7b680",
   "metadata": {},
   "outputs": [
    {
     "data": {
      "image/png": "[encoded data removed]",
      "text/plain": [
       "<Figure size 500x400 with 2 Axes>"
      ]
     },
     "metadata": {},
     "output_type": "display_data"
    }
   ],
   "source": [
    "corrmatrix = data.corr()\n",
    "plt.figure(figsize=(5, 4))\n",
    "sns.heatmap(corrmatrix,annot = True)\n",
    "plt.title('Correlation Heatmap')\n",
    "plt.show()"
   ]
  },
  {
   "cell_type": "code",
   "execution_count": 13,
   "id": "89ffd875-1d05-4ed5-9813-c2d362588213",
   "metadata": {},
   "outputs": [],
   "source": [
    "from sklearn.linear_model import LinearRegression, Lasso\n",
    "from sklearn.model_selection import train_test_split\n",
    "from sklearn.metrics import mean_squared_error,r2_score"
   ]
  },
  {
   "cell_type": "code",
   "execution_count": 15,
   "id": "79e9a6dc-9c82-4315-a427-2924cb8f4ab7",
   "metadata": {},
   "outputs": [],
   "source": [
    "y = data ['Price']   # target variable\n",
    "X= data.drop(['Price'],axis = 1) # features"
   ]
  },
  {
   "cell_type": "code",
   "execution_count": 16,
   "id": "e920e234-2554-455a-8901-3a7b8c97f990",
   "metadata": {},
   "outputs": [],
   "source": [
    "X_train, X_test, y_train, y_test = train_test_split(X, y, test_size=0.25, random_state=42)"
   ]
  },
  {
   "cell_type": "code",
   "execution_count": 17,
   "id": "96a60bd8-275e-4f97-9c08-5d19432ff868",
   "metadata": {},
   "outputs": [
    {
     "name": "stdout",
     "output_type": "stream",
     "text": [
      "X_train\n",
      "     Year\n",
      "81  2014\n",
      "77  2015\n",
      "15  2017\n",
      "30  2019\n",
      "45  2018\n",
      "X_test\n",
      "     Year\n",
      "40  2019\n",
      "65  2017\n",
      "4   2018\n",
      "47  2018\n",
      "42  2018\n"
     ]
    }
   ],
   "source": [
    "print('X_train\\n' , X_train.head())\n",
    "print('X_test\\n' , X_test.head())"
   ]
  },
  {
   "cell_type": "code",
   "execution_count": 18,
   "id": "43b884e1-fb37-487a-b14f-37b2b4815cc4",
   "metadata": {},
   "outputs": [],
   "source": [
    "lr = LinearRegression()\n",
    "linear_model = lr.fit(X_train,y_train)"
   ]
  },
  {
   "cell_type": "code",
   "execution_count": 19,
   "id": "5ec29d50-5fc5-48b8-89dd-649be0e95007",
   "metadata": {},
   "outputs": [],
   "source": [
    "y_predict_linear = linear_model.predict(X_test)"
   ]
  },
  {
   "cell_type": "code",
   "execution_count": 20,
   "id": "1cfb2146-d7b7-4ff2-9815-b7cc0d52daf8",
   "metadata": {},
   "outputs": [
    {
     "name": "stdout",
     "output_type": "stream",
     "text": [
      "3878767151.073449\n",
      "0.4347961632108023\n"
     ]
    }
   ],
   "source": [
    "\n",
    "linear_mse = mean_squared_error(y_test,y_predict_linear)\n",
    "linear_r2 = r2_score(y_test,y_predict_linear)\n",
    "\n",
    "print(linear_mse)\n",
    "print(linear_r2)"
   ]
  },
  {
   "cell_type": "code",
   "execution_count": 21,
   "id": "d06f3d73-f11b-4d26-933b-2ab74f498358",
   "metadata": {},
   "outputs": [],
   "source": [
    "# Create and train the Lasso regression model:\n",
    "\n",
    "l = Lasso()\n",
    "lasso_model = l.fit(X_train, y_train)"
   ]
  },
  {
   "cell_type": "code",
   "execution_count": 22,
   "id": "1cf9dd5e-a46d-409e-9ddc-d8dafd060a3c",
   "metadata": {},
   "outputs": [],
   "source": [
    "y_predict_lasso = lasso_model.predict(X_test)"
   ]
  },
  {
   "cell_type": "code",
   "execution_count": 23,
   "id": "47ec55fc-4f9a-4907-b7e6-1b147159af20",
   "metadata": {},
   "outputs": [
    {
     "data": {
      "text/plain": [
       "array([599222.10828854, 505264.87581331, 552243.49205092, 552243.49205092,\n",
       "       552243.49205092, 411307.64333805, 505264.87581331, 552243.49205092,\n",
       "       599222.10828854, 599222.10828854, 317350.4108628 , 505264.87581331,\n",
       "       411307.64333805, 646200.72452617, 552243.49205092, 599222.10828854,\n",
       "       317350.4108628 , 411307.64333805, 505264.87581331, 505264.87581331,\n",
       "       505264.87581331, 505264.87581331, 505264.87581331, 505264.87581331,\n",
       "       505264.87581331, 505264.87581331, 411307.64333805, 411307.64333805])"
      ]
     },
     "execution_count": 23,
     "metadata": {},
     "output_type": "execute_result"
    }
   ],
   "source": [
    "y_predict_lasso"
   ]
  },
  {
   "cell_type": "code",
   "execution_count": 24,
   "id": "16ea71ef-59cb-4e6a-beca-e1525846de6b",
   "metadata": {},
   "outputs": [
    {
     "name": "stdout",
     "output_type": "stream",
     "text": [
      "3878735896.222091\n",
      "0.4348007175862566\n"
     ]
    }
   ],
   "source": [
    "lasso_mse = mean_squared_error(y_test,y_predict_lasso)\n",
    "lasso_r2 = r2_score(y_test,y_predict_lasso)\n",
    "\n",
    "print(lasso_mse)\n",
    "print(lasso_r2)"
   ]
  },
  {
   "cell_type": "code",
   "execution_count": 25,
   "id": "a3bf668c-3a20-41bc-86e4-3cf9c8f07021",
   "metadata": {},
   "outputs": [
    {
     "name": "stdout",
     "output_type": "stream",
     "text": [
      "Linear Regression MSE: 3878767151.073449\n",
      "Linear Regression R2 Score: 0.4347961632108023\n",
      "Lasso Regression MSE: 3878735896.222091\n",
      "Lasso Regression R2 Score: 0.4348007175862566\n"
     ]
    }
   ],
   "source": [
    "print(\"Linear Regression MSE:\", linear_mse)\n",
    "print(\"Linear Regression R2 Score:\", linear_r2)\n",
    "print(\"Lasso Regression MSE:\", lasso_mse)\n",
    "print(\"Lasso Regression R2 Score:\", lasso_r2)"
   ]
  },
  {
   "cell_type": "code",
   "execution_count": 27,
   "id": "46adec70-914f-4aad-8782-f412bea393cf",
   "metadata": {},
   "outputs": [
    {
     "name": "stderr",
     "output_type": "stream",
     "text": [
      "C:\\Users\\USER\\anaconda3\\lib\\site-packages\\sklearn\\base.py:420: UserWarning: X does not have valid feature names, but LinearRegression was fitted with feature names\n",
      "  warnings.warn(\n"
     ]
    }
   ],
   "source": [
    "model_price2022=lr.predict([[2022]])"
   ]
  },
  {
   "cell_type": "code",
   "execution_count": 28,
   "id": "fa4c8c21-4175-49f0-8ab1-463a0b37fd6a",
   "metadata": {},
   "outputs": [
    {
     "data": {
      "text/plain": [
       "array([740160.11937766])"
      ]
     },
     "execution_count": 28,
     "metadata": {},
     "output_type": "execute_result"
    }
   ],
   "source": [
    "model_price2022"
   ]
  },
  {
   "cell_type": "code",
   "execution_count": null,
   "id": "3faa305e-f44e-400d-a5a0-8d294af76022",
   "metadata": {},
   "outputs": [],
   "source": []
  }
 ],
 "metadata": {
  "kernelspec": {
   "display_name": "Python 3 (ipykernel)",
   "language": "python",
   "name": "python3"
  },
  "language_info": {
   "codemirror_mode": {
    "name": "ipython",
    "version": 3
   },
   "file_extension": ".py",
   "mimetype": "text/x-python",
   "name": "python",
   "nbconvert_exporter": "python",
   "pygments_lexer": "ipython3",
   "version": "3.10.9"
  }
 },
 "nbformat": 4,
 "nbformat_minor": 5
}
